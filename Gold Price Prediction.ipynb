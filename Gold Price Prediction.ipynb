{
 "cells": [
  {
   "cell_type": "markdown",
   "metadata": {},
   "source": [
    "#### Importing the Libraries"
   ]
  },
  {
   "cell_type": "code",
   "execution_count": 2,
   "metadata": {},
   "outputs": [],
   "source": [
    "import numpy as np\n",
    "import pandas as pd\n",
    "import matplotlib.pyplot as plt\n",
    "import seaborn as sns\n",
    "from sklearn.model_selection import train_test_split\n",
    "from sklearn.ensemble import RandomForestRegressor\n",
    "from sklearn import metrics"
   ]
  },
  {
   "cell_type": "markdown",
   "metadata": {},
   "source": [
    "### Data Collection and Processing"
   ]
  },
  {
   "cell_type": "code",
   "execution_count": 4,
   "metadata": {},
   "outputs": [],
   "source": [
    "# loading the csv data to a Pandas DataFrame\n",
    "gold_data = pd.read_csv('gold price data.csv')"
   ]
  },
  {
   "cell_type": "code",
   "execution_count": 5,
   "metadata": {},
   "outputs": [
    {
     "data": {
      "text/html": [
       "<div>\n",
       "<style scoped>\n",
       "    .dataframe tbody tr th:only-of-type {\n",
       "        vertical-align: middle;\n",
       "    }\n",
       "\n",
       "    .dataframe tbody tr th {\n",
       "        vertical-align: top;\n",
       "    }\n",
       "\n",
       "    .dataframe thead th {\n",
       "        text-align: right;\n",
       "    }\n",
       "</style>\n",
       "<table border=\"1\" class=\"dataframe\">\n",
       "  <thead>\n",
       "    <tr style=\"text-align: right;\">\n",
       "      <th></th>\n",
       "      <th>Date</th>\n",
       "      <th>SPX</th>\n",
       "      <th>GLD</th>\n",
       "      <th>USO</th>\n",
       "      <th>SLV</th>\n",
       "      <th>EUR/USD</th>\n",
       "    </tr>\n",
       "  </thead>\n",
       "  <tbody>\n",
       "    <tr>\n",
       "      <th>0</th>\n",
       "      <td>1/2/2008</td>\n",
       "      <td>1447.160034</td>\n",
       "      <td>84.860001</td>\n",
       "      <td>78.470001</td>\n",
       "      <td>15.180000</td>\n",
       "      <td>1.471692</td>\n",
       "    </tr>\n",
       "    <tr>\n",
       "      <th>1</th>\n",
       "      <td>1/3/2008</td>\n",
       "      <td>1447.160034</td>\n",
       "      <td>85.570000</td>\n",
       "      <td>78.370003</td>\n",
       "      <td>15.285000</td>\n",
       "      <td>1.474491</td>\n",
       "    </tr>\n",
       "    <tr>\n",
       "      <th>2</th>\n",
       "      <td>1/4/2008</td>\n",
       "      <td>1411.630005</td>\n",
       "      <td>85.129997</td>\n",
       "      <td>77.309998</td>\n",
       "      <td>15.167000</td>\n",
       "      <td>1.475492</td>\n",
       "    </tr>\n",
       "    <tr>\n",
       "      <th>3</th>\n",
       "      <td>1/7/2008</td>\n",
       "      <td>1416.180054</td>\n",
       "      <td>84.769997</td>\n",
       "      <td>75.500000</td>\n",
       "      <td>15.053000</td>\n",
       "      <td>1.468299</td>\n",
       "    </tr>\n",
       "    <tr>\n",
       "      <th>4</th>\n",
       "      <td>1/8/2008</td>\n",
       "      <td>1390.189941</td>\n",
       "      <td>86.779999</td>\n",
       "      <td>76.059998</td>\n",
       "      <td>15.590000</td>\n",
       "      <td>1.557099</td>\n",
       "    </tr>\n",
       "    <tr>\n",
       "      <th>5</th>\n",
       "      <td>1/9/2008</td>\n",
       "      <td>1409.130005</td>\n",
       "      <td>86.550003</td>\n",
       "      <td>75.250000</td>\n",
       "      <td>15.520000</td>\n",
       "      <td>1.466405</td>\n",
       "    </tr>\n",
       "    <tr>\n",
       "      <th>6</th>\n",
       "      <td>1/10/2008</td>\n",
       "      <td>1420.329956</td>\n",
       "      <td>88.250000</td>\n",
       "      <td>74.019997</td>\n",
       "      <td>16.061001</td>\n",
       "      <td>1.480100</td>\n",
       "    </tr>\n",
       "    <tr>\n",
       "      <th>7</th>\n",
       "      <td>1/11/2008</td>\n",
       "      <td>1401.020020</td>\n",
       "      <td>88.580002</td>\n",
       "      <td>73.089996</td>\n",
       "      <td>16.077000</td>\n",
       "      <td>1.479006</td>\n",
       "    </tr>\n",
       "    <tr>\n",
       "      <th>8</th>\n",
       "      <td>1/14/2008</td>\n",
       "      <td>1416.250000</td>\n",
       "      <td>89.540001</td>\n",
       "      <td>74.250000</td>\n",
       "      <td>16.280001</td>\n",
       "      <td>1.486900</td>\n",
       "    </tr>\n",
       "    <tr>\n",
       "      <th>9</th>\n",
       "      <td>1/15/2008</td>\n",
       "      <td>1380.949951</td>\n",
       "      <td>87.989998</td>\n",
       "      <td>72.779999</td>\n",
       "      <td>15.834000</td>\n",
       "      <td>1.480210</td>\n",
       "    </tr>\n",
       "    <tr>\n",
       "      <th>10</th>\n",
       "      <td>1/16/2008</td>\n",
       "      <td>1373.199951</td>\n",
       "      <td>86.699997</td>\n",
       "      <td>71.849998</td>\n",
       "      <td>15.654000</td>\n",
       "      <td>1.466405</td>\n",
       "    </tr>\n",
       "    <tr>\n",
       "      <th>11</th>\n",
       "      <td>1/17/2008</td>\n",
       "      <td>1333.250000</td>\n",
       "      <td>86.500000</td>\n",
       "      <td>71.029999</td>\n",
       "      <td>15.717000</td>\n",
       "      <td>1.464000</td>\n",
       "    </tr>\n",
       "    <tr>\n",
       "      <th>12</th>\n",
       "      <td>1/18/2008</td>\n",
       "      <td>1325.189941</td>\n",
       "      <td>87.419998</td>\n",
       "      <td>71.540001</td>\n",
       "      <td>16.030001</td>\n",
       "      <td>1.461796</td>\n",
       "    </tr>\n",
       "    <tr>\n",
       "      <th>13</th>\n",
       "      <td>1/22/2008</td>\n",
       "      <td>1310.500000</td>\n",
       "      <td>88.169998</td>\n",
       "      <td>70.550003</td>\n",
       "      <td>15.902000</td>\n",
       "      <td>1.464794</td>\n",
       "    </tr>\n",
       "    <tr>\n",
       "      <th>14</th>\n",
       "      <td>1/23/2008</td>\n",
       "      <td>1338.599976</td>\n",
       "      <td>87.889999</td>\n",
       "      <td>69.500000</td>\n",
       "      <td>15.900000</td>\n",
       "      <td>1.463208</td>\n",
       "    </tr>\n",
       "    <tr>\n",
       "      <th>15</th>\n",
       "      <td>1/24/2008</td>\n",
       "      <td>1352.069946</td>\n",
       "      <td>90.080002</td>\n",
       "      <td>70.930000</td>\n",
       "      <td>16.299999</td>\n",
       "      <td>1.477410</td>\n",
       "    </tr>\n",
       "    <tr>\n",
       "      <th>16</th>\n",
       "      <td>1/25/2008</td>\n",
       "      <td>1330.609985</td>\n",
       "      <td>90.300003</td>\n",
       "      <td>71.910004</td>\n",
       "      <td>16.298000</td>\n",
       "      <td>1.467502</td>\n",
       "    </tr>\n",
       "    <tr>\n",
       "      <th>17</th>\n",
       "      <td>1/28/2008</td>\n",
       "      <td>1353.959961</td>\n",
       "      <td>91.750000</td>\n",
       "      <td>72.349998</td>\n",
       "      <td>16.549999</td>\n",
       "      <td>1.478809</td>\n",
       "    </tr>\n",
       "    <tr>\n",
       "      <th>18</th>\n",
       "      <td>1/29/2008</td>\n",
       "      <td>1362.300049</td>\n",
       "      <td>91.150002</td>\n",
       "      <td>72.980003</td>\n",
       "      <td>16.534000</td>\n",
       "      <td>1.477192</td>\n",
       "    </tr>\n",
       "    <tr>\n",
       "      <th>19</th>\n",
       "      <td>1/30/2008</td>\n",
       "      <td>1355.810059</td>\n",
       "      <td>92.059998</td>\n",
       "      <td>73.080002</td>\n",
       "      <td>16.674999</td>\n",
       "      <td>1.483107</td>\n",
       "    </tr>\n",
       "  </tbody>\n",
       "</table>\n",
       "</div>"
      ],
      "text/plain": [
       "         Date          SPX        GLD        USO        SLV   EUR/USD\n",
       "0    1/2/2008  1447.160034  84.860001  78.470001  15.180000  1.471692\n",
       "1    1/3/2008  1447.160034  85.570000  78.370003  15.285000  1.474491\n",
       "2    1/4/2008  1411.630005  85.129997  77.309998  15.167000  1.475492\n",
       "3    1/7/2008  1416.180054  84.769997  75.500000  15.053000  1.468299\n",
       "4    1/8/2008  1390.189941  86.779999  76.059998  15.590000  1.557099\n",
       "5    1/9/2008  1409.130005  86.550003  75.250000  15.520000  1.466405\n",
       "6   1/10/2008  1420.329956  88.250000  74.019997  16.061001  1.480100\n",
       "7   1/11/2008  1401.020020  88.580002  73.089996  16.077000  1.479006\n",
       "8   1/14/2008  1416.250000  89.540001  74.250000  16.280001  1.486900\n",
       "9   1/15/2008  1380.949951  87.989998  72.779999  15.834000  1.480210\n",
       "10  1/16/2008  1373.199951  86.699997  71.849998  15.654000  1.466405\n",
       "11  1/17/2008  1333.250000  86.500000  71.029999  15.717000  1.464000\n",
       "12  1/18/2008  1325.189941  87.419998  71.540001  16.030001  1.461796\n",
       "13  1/22/2008  1310.500000  88.169998  70.550003  15.902000  1.464794\n",
       "14  1/23/2008  1338.599976  87.889999  69.500000  15.900000  1.463208\n",
       "15  1/24/2008  1352.069946  90.080002  70.930000  16.299999  1.477410\n",
       "16  1/25/2008  1330.609985  90.300003  71.910004  16.298000  1.467502\n",
       "17  1/28/2008  1353.959961  91.750000  72.349998  16.549999  1.478809\n",
       "18  1/29/2008  1362.300049  91.150002  72.980003  16.534000  1.477192\n",
       "19  1/30/2008  1355.810059  92.059998  73.080002  16.674999  1.483107"
      ]
     },
     "execution_count": 5,
     "metadata": {},
     "output_type": "execute_result"
    }
   ],
   "source": [
    "# print first 20 rows in the dataframe\n",
    "gold_data.head(20)"
   ]
  },
  {
   "cell_type": "code",
   "execution_count": 6,
   "metadata": {},
   "outputs": [
    {
     "data": {
      "text/html": [
       "<div>\n",
       "<style scoped>\n",
       "    .dataframe tbody tr th:only-of-type {\n",
       "        vertical-align: middle;\n",
       "    }\n",
       "\n",
       "    .dataframe tbody tr th {\n",
       "        vertical-align: top;\n",
       "    }\n",
       "\n",
       "    .dataframe thead th {\n",
       "        text-align: right;\n",
       "    }\n",
       "</style>\n",
       "<table border=\"1\" class=\"dataframe\">\n",
       "  <thead>\n",
       "    <tr style=\"text-align: right;\">\n",
       "      <th></th>\n",
       "      <th>Date</th>\n",
       "      <th>SPX</th>\n",
       "      <th>GLD</th>\n",
       "      <th>USO</th>\n",
       "      <th>SLV</th>\n",
       "      <th>EUR/USD</th>\n",
       "    </tr>\n",
       "  </thead>\n",
       "  <tbody>\n",
       "    <tr>\n",
       "      <th>2285</th>\n",
       "      <td>5/8/2018</td>\n",
       "      <td>2671.919922</td>\n",
       "      <td>124.589996</td>\n",
       "      <td>14.0600</td>\n",
       "      <td>15.5100</td>\n",
       "      <td>1.186789</td>\n",
       "    </tr>\n",
       "    <tr>\n",
       "      <th>2286</th>\n",
       "      <td>5/9/2018</td>\n",
       "      <td>2697.790039</td>\n",
       "      <td>124.330002</td>\n",
       "      <td>14.3700</td>\n",
       "      <td>15.5300</td>\n",
       "      <td>1.184722</td>\n",
       "    </tr>\n",
       "    <tr>\n",
       "      <th>2287</th>\n",
       "      <td>5/10/2018</td>\n",
       "      <td>2723.070068</td>\n",
       "      <td>125.180000</td>\n",
       "      <td>14.4100</td>\n",
       "      <td>15.7400</td>\n",
       "      <td>1.191753</td>\n",
       "    </tr>\n",
       "    <tr>\n",
       "      <th>2288</th>\n",
       "      <td>5/14/2018</td>\n",
       "      <td>2730.129883</td>\n",
       "      <td>124.489998</td>\n",
       "      <td>14.3800</td>\n",
       "      <td>15.5600</td>\n",
       "      <td>1.193118</td>\n",
       "    </tr>\n",
       "    <tr>\n",
       "      <th>2289</th>\n",
       "      <td>5/16/2018</td>\n",
       "      <td>2725.780029</td>\n",
       "      <td>122.543800</td>\n",
       "      <td>14.4058</td>\n",
       "      <td>15.4542</td>\n",
       "      <td>1.182033</td>\n",
       "    </tr>\n",
       "  </tbody>\n",
       "</table>\n",
       "</div>"
      ],
      "text/plain": [
       "           Date          SPX         GLD      USO      SLV   EUR/USD\n",
       "2285   5/8/2018  2671.919922  124.589996  14.0600  15.5100  1.186789\n",
       "2286   5/9/2018  2697.790039  124.330002  14.3700  15.5300  1.184722\n",
       "2287  5/10/2018  2723.070068  125.180000  14.4100  15.7400  1.191753\n",
       "2288  5/14/2018  2730.129883  124.489998  14.3800  15.5600  1.193118\n",
       "2289  5/16/2018  2725.780029  122.543800  14.4058  15.4542  1.182033"
      ]
     },
     "execution_count": 6,
     "metadata": {},
     "output_type": "execute_result"
    }
   ],
   "source": [
    "# print last 5 rows of the dataframe\n",
    "gold_data.tail()"
   ]
  },
  {
   "cell_type": "code",
   "execution_count": 7,
   "metadata": {},
   "outputs": [
    {
     "data": {
      "text/plain": [
       "(2290, 6)"
      ]
     },
     "execution_count": 7,
     "metadata": {},
     "output_type": "execute_result"
    }
   ],
   "source": [
    "# number of rows and columns\n",
    "gold_data.shape"
   ]
  },
  {
   "cell_type": "code",
   "execution_count": 8,
   "metadata": {},
   "outputs": [
    {
     "name": "stdout",
     "output_type": "stream",
     "text": [
      "<class 'pandas.core.frame.DataFrame'>\n",
      "RangeIndex: 2290 entries, 0 to 2289\n",
      "Data columns (total 6 columns):\n",
      " #   Column   Non-Null Count  Dtype  \n",
      "---  ------   --------------  -----  \n",
      " 0   Date     2290 non-null   object \n",
      " 1   SPX      2290 non-null   float64\n",
      " 2   GLD      2290 non-null   float64\n",
      " 3   USO      2290 non-null   float64\n",
      " 4   SLV      2290 non-null   float64\n",
      " 5   EUR/USD  2290 non-null   float64\n",
      "dtypes: float64(5), object(1)\n",
      "memory usage: 107.5+ KB\n"
     ]
    }
   ],
   "source": [
    "# getting some basic informations about the data\n",
    "gold_data.info()"
   ]
  },
  {
   "cell_type": "code",
   "execution_count": 9,
   "metadata": {},
   "outputs": [
    {
     "data": {
      "text/plain": [
       "Date       0\n",
       "SPX        0\n",
       "GLD        0\n",
       "USO        0\n",
       "SLV        0\n",
       "EUR/USD    0\n",
       "dtype: int64"
      ]
     },
     "execution_count": 9,
     "metadata": {},
     "output_type": "execute_result"
    }
   ],
   "source": [
    "# checking the number of missing values\n",
    "gold_data.isnull().sum()"
   ]
  },
  {
   "cell_type": "code",
   "execution_count": 10,
   "metadata": {},
   "outputs": [
    {
     "data": {
      "text/html": [
       "<div>\n",
       "<style scoped>\n",
       "    .dataframe tbody tr th:only-of-type {\n",
       "        vertical-align: middle;\n",
       "    }\n",
       "\n",
       "    .dataframe tbody tr th {\n",
       "        vertical-align: top;\n",
       "    }\n",
       "\n",
       "    .dataframe thead th {\n",
       "        text-align: right;\n",
       "    }\n",
       "</style>\n",
       "<table border=\"1\" class=\"dataframe\">\n",
       "  <thead>\n",
       "    <tr style=\"text-align: right;\">\n",
       "      <th></th>\n",
       "      <th>SPX</th>\n",
       "      <th>GLD</th>\n",
       "      <th>USO</th>\n",
       "      <th>SLV</th>\n",
       "      <th>EUR/USD</th>\n",
       "    </tr>\n",
       "  </thead>\n",
       "  <tbody>\n",
       "    <tr>\n",
       "      <th>count</th>\n",
       "      <td>2290.000000</td>\n",
       "      <td>2290.000000</td>\n",
       "      <td>2290.000000</td>\n",
       "      <td>2290.000000</td>\n",
       "      <td>2290.000000</td>\n",
       "    </tr>\n",
       "    <tr>\n",
       "      <th>mean</th>\n",
       "      <td>1654.315776</td>\n",
       "      <td>122.732875</td>\n",
       "      <td>31.842221</td>\n",
       "      <td>20.084997</td>\n",
       "      <td>1.283653</td>\n",
       "    </tr>\n",
       "    <tr>\n",
       "      <th>std</th>\n",
       "      <td>519.111540</td>\n",
       "      <td>23.283346</td>\n",
       "      <td>19.523517</td>\n",
       "      <td>7.092566</td>\n",
       "      <td>0.131547</td>\n",
       "    </tr>\n",
       "    <tr>\n",
       "      <th>min</th>\n",
       "      <td>676.530029</td>\n",
       "      <td>70.000000</td>\n",
       "      <td>7.960000</td>\n",
       "      <td>8.850000</td>\n",
       "      <td>1.039047</td>\n",
       "    </tr>\n",
       "    <tr>\n",
       "      <th>25%</th>\n",
       "      <td>1239.874969</td>\n",
       "      <td>109.725000</td>\n",
       "      <td>14.380000</td>\n",
       "      <td>15.570000</td>\n",
       "      <td>1.171313</td>\n",
       "    </tr>\n",
       "    <tr>\n",
       "      <th>50%</th>\n",
       "      <td>1551.434998</td>\n",
       "      <td>120.580002</td>\n",
       "      <td>33.869999</td>\n",
       "      <td>17.268500</td>\n",
       "      <td>1.303296</td>\n",
       "    </tr>\n",
       "    <tr>\n",
       "      <th>75%</th>\n",
       "      <td>2073.010070</td>\n",
       "      <td>132.840004</td>\n",
       "      <td>37.827501</td>\n",
       "      <td>22.882499</td>\n",
       "      <td>1.369971</td>\n",
       "    </tr>\n",
       "    <tr>\n",
       "      <th>max</th>\n",
       "      <td>2872.870117</td>\n",
       "      <td>184.589996</td>\n",
       "      <td>117.480003</td>\n",
       "      <td>47.259998</td>\n",
       "      <td>1.598798</td>\n",
       "    </tr>\n",
       "  </tbody>\n",
       "</table>\n",
       "</div>"
      ],
      "text/plain": [
       "               SPX          GLD          USO          SLV      EUR/USD\n",
       "count  2290.000000  2290.000000  2290.000000  2290.000000  2290.000000\n",
       "mean   1654.315776   122.732875    31.842221    20.084997     1.283653\n",
       "std     519.111540    23.283346    19.523517     7.092566     0.131547\n",
       "min     676.530029    70.000000     7.960000     8.850000     1.039047\n",
       "25%    1239.874969   109.725000    14.380000    15.570000     1.171313\n",
       "50%    1551.434998   120.580002    33.869999    17.268500     1.303296\n",
       "75%    2073.010070   132.840004    37.827501    22.882499     1.369971\n",
       "max    2872.870117   184.589996   117.480003    47.259998     1.598798"
      ]
     },
     "execution_count": 10,
     "metadata": {},
     "output_type": "execute_result"
    }
   ],
   "source": [
    "# getting the statistical measures of the data\n",
    "gold_data.describe()"
   ]
  },
  {
   "cell_type": "markdown",
   "metadata": {},
   "source": [
    "#### Correlation:"
   ]
  },
  {
   "cell_type": "markdown",
   "metadata": {},
   "source": [
    "1. Positive Correlation\n",
    "2. Negative Correlation"
   ]
  },
  {
   "cell_type": "code",
   "execution_count": 11,
   "metadata": {},
   "outputs": [],
   "source": [
    "correlation = gold_data.corr()"
   ]
  },
  {
   "cell_type": "code",
   "execution_count": 12,
   "metadata": {},
   "outputs": [
    {
     "data": {
      "text/plain": [
       "<AxesSubplot:>"
      ]
     },
     "execution_count": 12,
     "metadata": {},
     "output_type": "execute_result"
    },
    {
     "data": {
      "image/png": "[encoded data removed]",
      "text/plain": [
       "<Figure size 576x576 with 2 Axes>"
      ]
     },
     "metadata": {
      "needs_background": "light"
     },
     "output_type": "display_data"
    }
   ],
   "source": [
    "# constructing a heatmap to understand the correlatiom\n",
    "plt.figure(figsize = (8,8))\n",
    "sns.heatmap(correlation, cbar=True, square=True, fmt='.1f',annot=True, annot_kws={'size':8}, cmap='Blues')"
   ]
  },
  {
   "cell_type": "code",
   "execution_count": 13,
   "metadata": {},
   "outputs": [
    {
     "name": "stdout",
     "output_type": "stream",
     "text": [
      "SPX        0.049345\n",
      "GLD        1.000000\n",
      "USO       -0.186360\n",
      "SLV        0.866632\n",
      "EUR/USD   -0.024375\n",
      "Name: GLD, dtype: float64\n"
     ]
    }
   ],
   "source": [
    "# correlation values of GLD\n",
    "print(correlation['GLD'])"
   ]
  },
  {
   "cell_type": "code",
   "execution_count": 14,
   "metadata": {},
   "outputs": [
    {
     "name": "stderr",
     "output_type": "stream",
     "text": [
      "C:\\Users\\Keara\\anaconda3\\lib\\site-packages\\seaborn\\distributions.py:2557: FutureWarning: `distplot` is a deprecated function and will be removed in a future version. Please adapt your code to use either `displot` (a figure-level function with similar flexibility) or `histplot` (an axes-level function for histograms).\n",
      "  warnings.warn(msg, FutureWarning)\n"
     ]
    },
    {
     "data": {
      "text/plain": [
       "<AxesSubplot:xlabel='GLD', ylabel='Density'>"
      ]
     },
     "execution_count": 14,
     "metadata": {},
     "output_type": "execute_result"
    },
    {
     "data": {
      "image/png": "[encoded data removed]",
      "text/plain": [
       "<Figure size 432x288 with 1 Axes>"
      ]
     },
     "metadata": {
      "needs_background": "light"
     },
     "output_type": "display_data"
    }
   ],
   "source": [
    "# checking the distribution of the GLD Price\n",
    "sns.distplot(gold_data['GLD'],color='green')"
   ]
  },
  {
   "cell_type": "markdown",
   "metadata": {},
   "source": [
    "#### Splitting the Features and Target"
   ]
  },
  {
   "cell_type": "code",
   "execution_count": 16,
   "metadata": {},
   "outputs": [],
   "source": [
    "X = gold_data.drop(['Date','GLD'],axis=1)\n",
    "Y = gold_data['GLD']"
   ]
  },
  {
   "cell_type": "code",
   "execution_count": 17,
   "metadata": {},
   "outputs": [
    {
     "name": "stdout",
     "output_type": "stream",
     "text": [
      "              SPX        USO      SLV   EUR/USD\n",
      "0     1447.160034  78.470001  15.1800  1.471692\n",
      "1     1447.160034  78.370003  15.2850  1.474491\n",
      "2     1411.630005  77.309998  15.1670  1.475492\n",
      "3     1416.180054  75.500000  15.0530  1.468299\n",
      "4     1390.189941  76.059998  15.5900  1.557099\n",
      "...           ...        ...      ...       ...\n",
      "2285  2671.919922  14.060000  15.5100  1.186789\n",
      "2286  2697.790039  14.370000  15.5300  1.184722\n",
      "2287  2723.070068  14.410000  15.7400  1.191753\n",
      "2288  2730.129883  14.380000  15.5600  1.193118\n",
      "2289  2725.780029  14.405800  15.4542  1.182033\n",
      "\n",
      "[2290 rows x 4 columns]\n"
     ]
    }
   ],
   "source": [
    "print(X)"
   ]
  },
  {
   "cell_type": "code",
   "execution_count": 18,
   "metadata": {},
   "outputs": [
    {
     "name": "stdout",
     "output_type": "stream",
     "text": [
      "0        84.860001\n",
      "1        85.570000\n",
      "2        85.129997\n",
      "3        84.769997\n",
      "4        86.779999\n",
      "           ...    \n",
      "2285    124.589996\n",
      "2286    124.330002\n",
      "2287    125.180000\n",
      "2288    124.489998\n",
      "2289    122.543800\n",
      "Name: GLD, Length: 2290, dtype: float64\n"
     ]
    }
   ],
   "source": [
    "print(Y)"
   ]
  },
  {
   "cell_type": "markdown",
   "metadata": {},
   "source": [
    "#### Splitting into Training data and Test Data"
   ]
  },
  {
   "cell_type": "code",
   "execution_count": 20,
   "metadata": {},
   "outputs": [],
   "source": [
    "X_train, X_test, Y_train, Y_test = train_test_split(X, Y, test_size = 0.2, random_state=2)"
   ]
  },
  {
   "cell_type": "markdown",
   "metadata": {},
   "source": [
    "### Model Training: Random Forest Regressor"
   ]
  },
  {
   "cell_type": "code",
   "execution_count": 21,
   "metadata": {},
   "outputs": [],
   "source": [
    "regressor = RandomForestRegressor(n_estimators=100)"
   ]
  },
  {
   "cell_type": "code",
   "execution_count": 22,
   "metadata": {},
   "outputs": [
    {
     "data": {
      "text/plain": [
       "RandomForestRegressor()"
      ]
     },
     "execution_count": 22,
     "metadata": {},
     "output_type": "execute_result"
    }
   ],
   "source": [
    "# training the model\n",
    "regressor.fit(X_train,Y_train)"
   ]
  },
  {
   "cell_type": "markdown",
   "metadata": {},
   "source": [
    "#### Model Evaluation"
   ]
  },
  {
   "cell_type": "code",
   "execution_count": 23,
   "metadata": {},
   "outputs": [],
   "source": [
    "# prediction on Test Data\n",
    "test_data_prediction = regressor.predict(X_test)"
   ]
  },
  {
   "cell_type": "code",
   "execution_count": 24,
   "metadata": {},
   "outputs": [
    {
     "name": "stdout",
     "output_type": "stream",
     "text": [
      "[168.4559995   82.32809964 116.2027003  127.6791008  120.83420137\n",
      " 154.74269757 150.49799909 125.92710054 117.65099857 125.9240009\n",
      " 116.7310009  171.11840066 141.4851987  167.51979883 115.0515001\n",
      " 117.70670054 138.12930297 169.87730036 159.52730352 158.44999928\n",
      " 155.12300056 124.73609989 176.13259955 157.8593036  125.18780043\n",
      "  93.72809977  77.42570004 120.59089986 119.09499918 167.4329003\n",
      "  88.23360065 125.27659966  91.14190056 117.61360036 121.13949927\n",
      " 136.19110065 115.51660136 114.81260075 145.08939988 107.10500102\n",
      " 103.92160229  87.29469829 126.38930074 117.87229995 153.48619906\n",
      " 119.73039996 108.3285999  107.99039786  92.95870035 127.057698\n",
      "  74.96730042 113.67089949 121.23260006 111.31849919 118.98519914\n",
      " 120.55179976 159.26580033 167.13710081 146.88349652  85.90489862\n",
      "  94.33790042  86.81569892  90.47520037 118.90430094 126.36910064\n",
      " 127.45890001 169.98180089 122.27719949 117.39639908  98.78590024\n",
      " 168.60430178 142.75859796 131.67040254 121.3311022  120.79399954\n",
      " 119.75380058 114.72170164 118.41870053 107.17940106 127.89340128\n",
      " 114.17049952 107.3928998  116.7793003  119.77249882  88.65530067\n",
      "  88.2608988  146.37360138 127.32519988 113.71040032 110.37269858\n",
      " 108.26559885  78.04079901 169.79500198 113.99829892 121.70169908\n",
      " 128.13810191 155.20269806  91.84119928 135.60800071 158.32350369\n",
      " 126.13820034 125.62110036 130.75800161 115.02610132 119.9063001\n",
      "  92.11299976 110.30909889 167.23579932 157.92219881 114.26469947\n",
      " 106.88880127  79.57789947 113.34930041 125.89110083 107.28289949\n",
      " 119.76460072 155.83570373 159.42459878 120.37869958 134.25420314\n",
      " 101.54659963 117.59889788 119.39980016 113.10220103 102.72949923\n",
      " 160.31949809  98.75510038 146.54839805 125.44310083 169.74109943\n",
      " 125.77499866 127.28689743 127.37470165 113.73769941 112.96660076\n",
      " 123.48119935 102.18979912  89.39879991 124.49169956 102.16719914\n",
      " 107.32689909 113.1081009  117.1214011   99.15229955 121.92110019\n",
      " 163.3744991   87.3951988  106.62929972 117.24700054 127.7652017\n",
      " 124.14380077  80.57169955 120.24190074 158.87419829  87.98619972\n",
      " 110.33749941 118.82729958 171.64259845 102.88569885 105.64780061\n",
      " 122.80260046 158.71729776  87.62619836  93.31730051 112.92969998\n",
      " 177.97489948 114.42829996 119.44630004  94.65930088 125.55710005\n",
      " 165.71820114 115.02000078 116.62010151  88.30989862 149.21150083\n",
      " 120.32959981  89.36149995 111.68529964 116.83270048 118.67430097\n",
      "  88.13689923  94.12080008 117.11590023 118.46020198 120.53300053\n",
      " 126.81129796 121.93169977 149.73470042 165.47500091 118.68589977\n",
      " 120.33120149 150.37870025 118.60929923 172.42319889 105.4649995\n",
      " 105.03510084 149.90130079 113.57330085 124.86590078 147.77039892\n",
      " 119.6690012  115.31460038 112.1658996  113.52860179 142.44650138\n",
      " 118.02549762 102.87950035 115.94460108 103.42360175  98.76130032\n",
      " 117.47990071  90.58370016  91.35410085 153.51649905 102.6007996\n",
      " 154.75310065 114.24350159 137.87830083  90.23509865 115.5300997\n",
      " 115.18429966 122.90370023 121.55710018 165.22440135  92.86449933\n",
      " 135.39760189 121.3787994  120.79680087 104.53680022 142.63650273\n",
      " 121.54899928 116.72160063 113.39310082 127.25139698 122.52319937\n",
      " 125.75309966 121.2437005   86.92109916 132.15570196 145.02030198\n",
      "  92.76459915 160.18829892 157.97000223 126.31699907 165.32649962\n",
      " 108.81149972 110.24570073 103.67099822  94.70140036 127.76010262\n",
      " 107.17040045 163.70949963 121.99720006 131.88670041 130.75350163\n",
      " 160.43459989  90.07359847 175.97550241 127.60790035 126.86119817\n",
      "  86.42329907 124.60579945 150.01649742  89.58980035 106.92189963\n",
      " 109.06309993  84.60399863 136.22030022 154.95360178 139.00570299\n",
      "  74.22080035 152.82000105 126.14179956 126.7337002  127.50689849\n",
      " 108.63999944 156.2910992  114.75300104 116.99130127 125.22139948\n",
      " 153.92190091 121.13400008 156.43949837  92.98320027 125.53260147\n",
      " 125.29460015  87.69330028  92.01919914 126.19499909 128.55110306\n",
      " 113.10950062 117.79729754 120.92460013 127.33119813 119.6554014\n",
      " 136.1025003   93.78839919 119.77330021 113.29230094  94.21129921\n",
      " 109.11039969  86.78849883 109.43829976  89.50569996  92.40800003\n",
      " 131.58930252 162.35480047  89.27410021 119.40830091 133.4873018\n",
      " 123.90280012 128.27500161 101.94509854  89.06859851 132.33180135\n",
      " 119.74780026 108.77769994 167.28250094 115.12120008  86.71739901\n",
      " 118.92730064  91.05279955 161.81790012 116.44390044 121.26330019\n",
      " 160.22609795 120.15009906 112.64029937 108.46509844 126.64969978\n",
      "  75.91710057 102.98659976 127.75890256 121.66619901  92.58349973\n",
      " 132.29870099 118.13690114 115.9907998  154.58050245 159.51220077\n",
      " 110.16949956 154.88099767 119.29770076 160.82900086 118.51060049\n",
      " 158.21869883 115.11619923 116.64480024 148.99619951 115.05780059\n",
      " 125.78319877 165.98469946 117.84810037 125.13629931 153.45550313\n",
      " 153.49580257 132.20280026 114.93710043 121.35500197 125.15470098\n",
      "  89.74690085 123.11850011 155.17900147 111.78880021 106.59189967\n",
      " 161.60370167 118.42010007 165.75840025 134.25220126 114.86579952\n",
      " 152.96999935 168.82850068 115.0832006  113.88780107 158.68579917\n",
      "  85.24189908 127.02210044 127.97300106 128.78280007 124.34420079\n",
      " 123.84630034  90.42980037 152.92900056  97.14559971 137.6578995\n",
      "  89.13129938 107.25499993 114.92479993 112.69100087 124.19529906\n",
      "  91.38279888 125.29940129 162.34889907 119.91409894 164.91830028\n",
      " 126.74729808 112.34900004 127.52449944  95.40809885  91.00749989\n",
      " 103.76439898 120.8081002   83.2182996  126.31049966 160.36680488\n",
      " 117.28700084 118.2619998  119.8076997  122.77429964 120.17270139\n",
      " 121.40760007 118.19640045 107.40579994 148.1856997  126.18179855\n",
      " 115.75390046  73.52330006 127.8616011  153.9132006  123.16049989\n",
      " 125.63650033  88.69220011 103.18589825 124.36780033 120.16960038\n",
      "  73.30590087 151.63150042 121.13940014 104.62829987  86.31489794\n",
      " 115.29049914 172.11239902 119.68040061 160.58039797 113.16489964\n",
      " 121.12520008 118.47740079  95.99789981 118.91770015 126.04450069\n",
      " 118.52159961  96.17040076 154.46700202 121.94620028 147.28930005\n",
      " 159.1054026  114.10319983 122.59109942 148.43399828 126.87150023\n",
      " 165.96870043 136.48410006 120.07249969 167.30379918 108.2882991\n",
      " 121.91439852 137.94090089 107.34819887]\n"
     ]
    }
   ],
   "source": [
    "print(test_data_prediction)"
   ]
  },
  {
   "cell_type": "code",
   "execution_count": null,
   "metadata": {},
   "outputs": [],
   "source": []
  }
 ],
 "metadata": {
  "kernelspec": {
   "display_name": "Python 3",
   "language": "python",
   "name": "python3"
  },
  "language_info": {
   "codemirror_mode": {
    "name": "ipython",
    "version": 3
   },
   "file_extension": ".py",
   "mimetype": "text/x-python",
   "name": "python",
   "nbconvert_exporter": "python",
   "pygments_lexer": "ipython3",
   "version": "3.8.8"
  }
 },
 "nbformat": 4,
 "nbformat_minor": 4
}
